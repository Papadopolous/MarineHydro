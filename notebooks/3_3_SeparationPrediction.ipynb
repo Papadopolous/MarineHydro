{
 "cells": [
  {
   "cell_type": "markdown",
   "metadata": {},
   "source": [
    "# Separation prediction\n",
    "\n",
    "In this section we will combine the vortex panel method and a boundary layer solver to predict separation on any 2D shape."
   ]
  },
  {
   "cell_type": "markdown",
   "metadata": {},
   "source": [
    "\n",
    "---\n",
    "<img src=\"resources/graphics4.png\" width=\"400\">\n",
    "\n",
    "Recall that the Pohlhausen profile is used to describe a **laminar** velocity profile exposed to external pressure gradients. The profile is defined as\n",
    "\n",
    "$$ \\frac u {u_e} = f(\\eta,\\lambda) = P_F(\\eta)+\\lambda P_G(\\eta) $$\n",
    "\n",
    "where $\\lambda$ is the *shape factor*, given by\n",
    "$$ \\lambda = \\frac {\\delta^2}\\nu u_e'$$\n",
    "\n",
    "and the profile shapes are defined by\n",
    "\n",
    "- $P_F = 2\\eta-2\\eta^3+\\eta^4$ is the flat plate profile\n",
    "- $P_G = \\frac\\eta 6 (1-\\eta)^3$ is the modification for pressure gradients\n",
    "\n",
    "These can be easly defined using a set of python functions\n"
   ]
  },
  {
   "cell_type": "code",
   "execution_count": null,
   "metadata": {},
   "outputs": [],
   "source": [
    "from matplotlib import pyplot as plt\n",
    "%matplotlib inline\n",
    "import numpy as np\n",
    "\n",
    "def pohlF(eta): return 2*eta-2*eta**3+eta**4\n",
    "def pohlG(eta): return eta/6*(1-eta)**3\n",
    "\n",
    "def pohlPlot(lam):\n",
    "    plt.figure(figsize=(5,5))\n",
    "    plt.xlabel(r'$u/u_e$', fontsize=24)\n",
    "    plt.ylabel(r'$y/\\delta$', fontsize=24)\n",
    "    eta = np.linspace(0.0,1.0)\n",
    "    plt.plot(pohlF(eta),eta, ls='--', label=r'$f(0)$')\n",
    "    plt.plot(pohlF(eta)+lam*pohlG(eta),eta, lw=2, label=r'$f(\\lambda)$')\n",
    "    plt.legend(loc='upper left', fontsize=16)"
   ]
  },
  {
   "cell_type": "code",
   "execution_count": null,
   "metadata": {},
   "outputs": [],
   "source": [
    "pohlPlot(lam=10)"
   ]
  },
  {
   "cell_type": "markdown",
   "metadata": {},
   "source": [
    "## Thwaites solution method\n",
    "\n",
    "Thwaites was able to substitue the Pohlhausen profile and integrate the momentum equation into the form \n",
    "\n",
    "$$ \\delta^2_2(x) =\\frac{0.45\\nu}{u^6_e(x)}\\int^x_0 u_e^5(x) dx $$\n",
    "\n",
    "and we would like to get this into a non-dimensional form. To do so, we define $s=x/L$ and $u_s = u_e/U$, where $U$ and $L$ are characteristic values for the problem. Substitution gives\n",
    "\n",
    "$$ \\frac{\\delta_2}{L} \\sqrt{Re_L} =\\left[\\frac{0.45}{u^6_s(s)}\\int^s_0 u_s^5(s) ds \\right]^{1/2}$$\n",
    "\n",
    "and this scaled momentum thickness ($\\delta_2\\sqrt{U/\\nu L}$) can always be \"unscaled\" later if required. \n",
    " \n",
    "The right hand side of this equation is simple to compute in python. Given a velocity array `u_s` with `s` as the corresponding distance along the boundary layer we use\n",
    "\n",
    "```python\n",
    "numpy.sqrt(0.45/u_s**6*cumtrap(u_s**5*,s,initial=0))\n",
    "```\n",
    "\n",
    "where [`cumtrapz`](https://docs.scipy.org/doc/scipy-0.14.0/reference/generated/scipy.integrate.cumtrapz.html) is the cumulative version of trapz."
   ]
  },
  {
   "cell_type": "markdown",
   "metadata": {},
   "source": [
    "##### Quiz\n",
    "\n",
    "Assuming the same array size $N$, how long will it take to solve boundary layer equation compared to the vortex panel equation?\n",
    "\n",
    "1. Boundary layer will take **less** time\n",
    "1. Boundary layer layer will take **the same** amount of time\n",
    "1. Boundary layer will take **more** time\n",
    "\n",
    "---\n",
    "\n",
    "This has been implemented in the `thwaites` function in the `BoundaryLayer` module. Lets import the module (as `bl`) and validate the function on a flat plate."
   ]
  },
  {
   "cell_type": "code",
   "execution_count": null,
   "metadata": {},
   "outputs": [],
   "source": [
    "import os\n",
    "import sys\n",
    "module_path = os.path.abspath(os.path.join('..'))\n",
    "if module_path not in sys.path:\n",
    "    sys.path.append(module_path)\n",
    "\n",
    "from vortexpanel import BoundaryLayer as bl\n",
    "\n",
    "N=32                             # number of steps\n",
    "s = np.linspace(0,1,N)           # scaled distance\n",
    "u_s = np.ones_like(s)            # flat plate (uniform) external velocity\n",
    "delta2,_,_ = bl.thwaites(s,u_s)  # thwaites momentum thickness\n",
    "\n",
    "plt.plot(s,0.664*np.sqrt(s),'r',label='Blasius')\n",
    "plt.plot(s,0.685*np.sqrt(s),'k',label='Pohlhausen')\n",
    "plt.plot(s,delta2,'o',label='Thwaites')\n",
    "plt.ylabel(r'$\\frac{\\delta_2}{L} \\sqrt{Re_L}$', fontsize=16,rotation=0,y=1)\n",
    "plt.xlabel(r'$x/L$', fontsize=16)\n",
    "plt.legend(loc='lower right');"
   ]
  },
  {
   "cell_type": "markdown",
   "metadata": {},
   "source": [
    "As we saw before, Pohlhausen is only 3% different than the exact Blasius flat plate result, and Thwaites tuned his method to be even closer to the exact result.\n",
    "\n",
    "## Profile shape and separation\n",
    "\n",
    "Separation is our primary objective, not the momentum thickness. Algebra gives\n",
    "\n",
    "$$ \\frac{du_s}{ds}\\frac{\\delta_2^2 U}{\\nu L} = \\frac{du_e}{dx}\\frac{\\delta_2^2}{\\nu} = \\lambda c_2^2 = f(\\lambda) $$\n",
    "\n",
    "where the left hand side is known from Thwaites and the prescribed $u_s$ array, and $c_2=\\delta_2/\\delta$ which is a known function of $\\lambda$. Therefore, we can determine $\\lambda$ on every point along the body.\n"
   ]
  },
  {
   "cell_type": "markdown",
   "metadata": {},
   "source": [
    "##### Quiz\n",
    "\n",
    "What value of $\\lambda$ denotes separation?\n",
    "\n",
    "1. $\\lambda$=-24\n",
    "1. $\\lambda$=-12\n",
    "1. $\\lambda$=0\n",
    "1. $\\lambda$=12\n",
    "\n",
    "----\n",
    "\n",
    "If we take a look at the help text for `bl.thwaites`"
   ]
  },
  {
   "cell_type": "code",
   "execution_count": null,
   "metadata": {},
   "outputs": [],
   "source": [
    "help(bl.thwaites)"
   ]
  },
  {
   "cell_type": "markdown",
   "metadata": {},
   "source": [
    "we see that `thwaites` will do these computations for us and return the shape factor $\\lambda$ and as the array index of separation `iSep`. But is that code accurate?"
   ]
  },
  {
   "cell_type": "markdown",
   "metadata": {},
   "source": [
    "\n",
    "##### Numerical fundamental: Validation \n",
    "##### Every piece of code must be tested against a known nontrivial example (Is this sinking in yet?) \n",
    "\n",
    "The example code in `help(thwaites)` uses the external velocity over a unit circle. \n",
    "\n",
    "![short](resources/graphics3.png)\n",
    "\n",
    "This is a good test case because the _theoretical_ solution is known to be $108\\deg=1.88\\text{rad}$ from the leading stagnation point. Lets run it."
   ]
  },
  {
   "cell_type": "code",
   "execution_count": null,
   "metadata": {},
   "outputs": [],
   "source": [
    "s = np.linspace(0,np.pi,32)          # distance along BL\n",
    "u_s = 2*np.sin(s)                    # circle external velocity\n",
    "delta2,lam,iSep = bl.thwaites(s,u_s) # BL properties\n",
    "\n",
    "fig,ax=plt.subplots(2,1,sharex=True)\n",
    "ax[0].plot(s,delta2)\n",
    "ax[0].set_ylabel(r'$\\delta_2 \\sqrt{\\frac{U}{\\nu R}}$',rotation=0,labelpad=30,size=16)\n",
    "ax[0].set_yticks([0,0.2,0.4,0.6]); ax[0].set_ylim(0,0.6)\n",
    "ax[1].plot(s,lam)\n",
    "ax[1].axhline(-12,ls='--')\n",
    "ax[1].set_yticks([-12,0,7]); ax[1].set_ylim(-15,)\n",
    "ax[1].set_ylabel(r'$\\lambda}$',rotation=0,size=16)\n",
    "plt.xticks([0,np.pi/2,np.pi],['0','$\\pi/2$','$\\pi$'])\n",
    "plt.xlabel(r'$\\theta$',size=16)\n",
    "plt.show()"
   ]
  },
  {
   "cell_type": "markdown",
   "metadata": {},
   "source": [
    "Near the stagnation point, the pressure gradient is favourable and very strong, limiting the BL growth. As you move along the boundary layer, $\\lambda$ decreases and eventually crosses the threshold for separation $\\lambda=-12$. Values after separation are meaningless and have been zeroed out in the function.\n",
    "\n",
    "From the plot we can see separation occurs soon after $\\pi/2$, but this is too vague. We need a quantitative prediction to validate and we can use `iSep` to get one. If `iSep=13.2` it means that separation occured 20% of the way between `s[13]` and `s[14]`. All we need to do is interpolate, and we can do this for __any__ panel attribute using the `BoundaryLayer.sep` function. Let's see what we get:"
   ]
  },
  {
   "cell_type": "code",
   "execution_count": null,
   "metadata": {},
   "outputs": [],
   "source": [
    "sSep = bl.sep(s,iSep)\n",
    "print('analytic prediction @ s=1.885 \\n numeric prediction @ s={:.3f}'.format(sSep))"
   ]
  },
  {
   "cell_type": "markdown",
   "metadata": {},
   "source": [
    "Our numerical method prediction is __within one percent__ of the theoretical result!"
   ]
  },
  {
   "cell_type": "markdown",
   "metadata": {},
   "source": [
    "##### Quiz\n",
    "\n",
    "How does the separation point depend on $\\nu$?\n",
    "\n",
    "1. Increasing $\\nu$ delays separation\n",
    "1. Decreasing $\\nu$ delays separation\n",
    "1. Chaning $\\nu$ has no effect on separation"
   ]
  },
  {
   "cell_type": "markdown",
   "metadata": {},
   "source": [
    "## Numerical boundary layer coupling\n",
    "\n",
    "This works for a circle, but what about something where we don't know the external velocity analytically? We need to __interface__ the `VortexPanel` and `BoundaryLayer` modules.  \n",
    "\n",
    "This is fairly simple. First, the external flow solver doesn't need anything from `BoundaryLayer` - it just needs a geometry and angle of attack:"
   ]
  },
  {
   "cell_type": "code",
   "execution_count": null,
   "metadata": {},
   "outputs": [],
   "source": [
    "from vortexpanel import VortexPanel as vp\n",
    "\n",
    "foil = vp.make_jfoil(N=32)\n",
    "foil.solve_gamma_O2(alpha=np.pi/20,kutta=[(0,-1)])\n",
    "foil.plot_flow()"
   ]
  },
  {
   "cell_type": "markdown",
   "metadata": {},
   "source": [
    "We know Thwaites only needs $s,u_s$, but there is a complication. The body streamline forms **two** boundary layers, one on each side. We need to identify the starting point of these two flow regions."
   ]
  },
  {
   "cell_type": "markdown",
   "metadata": {},
   "source": [
    "##### Quiz\n",
    "\n",
    "Where is the starting point of the two boundary layers?\n",
    "\n",
    "1. The first panel: `foil[0]`\n",
    "1. The panel where $u_s = 0$\n",
    "1. The left-most panel, `foil[N/2]`"
   ]
  },
  {
   "cell_type": "markdown",
   "metadata": {},
   "source": [
    "Since we have solved for `gamma` and $\\vec u\\cdot\\hat s = -\\gamma$, this makes it straightforward to split the body into the two boundary layer sections, which has been done in the function `PanelArray.split`"
   ]
  },
  {
   "cell_type": "code",
   "execution_count": null,
   "metadata": {},
   "outputs": [],
   "source": [
    "from inspect import getsource\n",
    "print(getsource(foil.split))"
   ]
  },
  {
   "cell_type": "markdown",
   "metadata": {},
   "source": [
    "Note that we changed the direction of the bottom array so that it runs from the stagnation point to the trailing edge to match the flow direction."
   ]
  },
  {
   "cell_type": "code",
   "execution_count": null,
   "metadata": {},
   "outputs": [],
   "source": [
    "foil = vp.make_jfoil(N=32)                     #1. Define the geometry\n",
    "foil.solve_gamma_O2(alpha=0.2,kutta=[(0,-1)])  #2. Solve for the potential flow\n",
    "foil_top,foil_bot = foil.split()               #3. Split the boundary layers\n",
    "\n",
    "foil.plot(nlabel=2)\n",
    "plt.axis('equal')\n",
    "plt.axis('off')\n",
    "plt.show()\n",
    "\n",
    "foil_top.plot(style='g',nlabel=2)\n",
    "foil_bot.plot(style='r',nlabel=2)\n",
    "plt.axis('equal')\n",
    "plt.axis('off')\n",
    "plt.show()"
   ]
  },
  {
   "cell_type": "markdown",
   "metadata": {},
   "source": [
    "As we change `alpha`, the stagnation point - and therefore the panels in each section - changes.\n",
    "\n",
    "Now that we have two boundary layers, we just pass this to `thwaites`. I've even written a __wrapper__ to pull out the distance and velocity automatically"
   ]
  },
  {
   "cell_type": "code",
   "execution_count": null,
   "metadata": {},
   "outputs": [],
   "source": [
    "print(getsource(foil.thwaites))"
   ]
  },
  {
   "cell_type": "markdown",
   "metadata": {},
   "source": [
    "Wrappers are pretty standard when interfacing two bits of code ad should be very short (3 lines is fine). \n",
    "\n",
    "Another simple function (almost a wrapper) is  `PanelArray.sep_point` function which just applies `BoundaryLayer.sep` to find $x,y$ location of the separation point. Let's test it out!"
   ]
  },
  {
   "cell_type": "code",
   "execution_count": null,
   "metadata": {},
   "outputs": [],
   "source": [
    "alpha = 0.05*np.pi\n",
    "N = 32\n",
    "kutta = [(0,-1)]\n",
    "\n",
    "foil = vp.make_jfoil(N)          #1. make the geometry\n",
    "foil.solve_gamma_O2(alpha,kutta) #2. solve the pflow\n",
    "top,bot = foil.split()           #3. split the panels\n",
    "x_top,y_top = top.sep_point()    #4. find separation on top \n",
    "x_bot,y_bot = bot.sep_point()    #   ... and bottom BL\n",
    "\n",
    "foil.plot_flow()\n",
    "plt.scatter(x_top,y_top, s=100, c='r', zorder=10)\n",
    "plt.scatter(x_bot,y_bot, s=100, c='g', zorder=10)\n",
    "plt.show()"
   ]
  },
  {
   "cell_type": "markdown",
   "metadata": {},
   "source": [
    "And we see that at an angle of attack, the high pressure side of the foil (the bottom) has delayed separation, while the low pressure side has early separation. This is exactly the kind of information we need to predict stall.\n",
    "\n",
    "---\n",
    "\n",
    "## Summary \n",
    "\n",
    "Let's review the general solution methodology again: \n",
    "\n",
    "1. `make` the geometry as a set of vortex panels\n",
    "1. `solve` the potential flow by applying the no-slip and kutta conditions\n",
    "1. `split` the panels into sections on either side of the stagnation points\n",
    "1. `thwaites` gives you the BL evolution up to the point of separation\n",
    "\n",
    "Then you can measure, print, or plot any flow quantity you want. \n",
    "\n",
    "##### Numerical fundamental: Synergy\n",
    "##### Simple functions can be linked to build powerful methods\n",
    "\n",
    "By combining the `VortexPanel` methods with the `BoundaryLayer` methods, we've developed a numerical tool to predict separation on **any** body (or group of bodies)."
   ]
  },
  {
   "cell_type": "markdown",
   "metadata": {},
   "source": [
    "## Aspect ratio validation\n",
    "\n",
    "We've validated the code for the known case of a circle, but this is just one geometry. \n",
    "\n",
    "##### Numerical fundamental: Skepticism\n",
    "##### \"That is what the computer said...\" - Famous last words\n",
    "\n",
    "We should validate a new method on as many known results as possible. "
   ]
  },
  {
   "cell_type": "markdown",
   "metadata": {},
   "source": [
    "One thing we could validate is that the separation points change properly if the aspect ratio $t/c$ is changed.  Here is a summary figure from Chapter 3 of Hoerner's *Fluid-Dynamic Drag*\n",
    "\n",
    "---\n",
    "![Hoerner Drag, Fig 5, Chap 3](resources/separation_hoerner.png)\n",
    "\n",
    "---\n",
    "There are four ellipse examples. Based on this figure, I estimate:\n",
    "\n",
    "$t/c$| 1 |1/2 | 1/4 | 1/6 | 1/8 \n",
    "---|\n",
    "$x/c$| $0.65$ | $0.76$ | $0.86$ | $0.90$ | $0.92$ \n",
    "\n",
    "where $x$ is the linear distance from the nose to the point of separation. I've included the result for a circle."
   ]
  },
  {
   "cell_type": "markdown",
   "metadata": {},
   "source": [
    "##### Your turn\n",
    "\n",
    "Validate the separation prediction method against these two geometries. Are there any surprises? I recommend that you write a few functions to help automate the prediction process, similar to the previous notebooks..."
   ]
  },
  {
   "cell_type": "markdown",
   "metadata": {},
   "source": [
    "##### Solution\n"
   ]
  },
  {
   "cell_type": "code",
   "execution_count": null,
   "metadata": {},
   "outputs": [],
   "source": [
    "def ellipse_sep(t_c): \n",
    "# write a function to find x/c following the steps above"
   ]
  },
  {
   "cell_type": "code",
   "execution_count": null,
   "metadata": {},
   "outputs": [],
   "source": [
    "# Compare to Hoerner\n",
    "plt.scatter([1,1./2.,1./4.,1./6.,1./8.],\n",
    "               [0.65,0.76,0.86,0.90,0.92], \n",
    "               s=100, label='Hoerner')\n",
    "t_c = np.linspace(0.08,1.1,10)\n",
    "# plt.plot(t_c,[ellipse_sep(a) for a in t_c], label='numeric')\n",
    "plt.legend(loc='upper right')\n",
    "plt.xlabel(r'$t/c$', fontsize=16)\n",
    "plt.ylabel(r'$x/c$', fontsize=16)"
   ]
  },
  {
   "cell_type": "code",
   "execution_count": null,
   "metadata": {},
   "outputs": [],
   "source": []
  }
 ],
 "metadata": {
  "kernelspec": {
   "display_name": "Python 3",
   "language": "python",
   "name": "python3"
  },
  "language_info": {
   "codemirror_mode": {
    "name": "ipython",
    "version": 3
   },
   "file_extension": ".py",
   "mimetype": "text/x-python",
   "name": "python",
   "nbconvert_exporter": "python",
   "pygments_lexer": "ipython3",
   "version": "3.6.4"
  }
 },
 "nbformat": 4,
 "nbformat_minor": 1
}
