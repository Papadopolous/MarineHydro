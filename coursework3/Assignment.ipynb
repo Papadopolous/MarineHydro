{
 "cells": [
  {
   "cell_type": "markdown",
   "metadata": {},
   "source": [
    "# Numerical Hydrodynamics Assignment\n",
    "\n",
    "The numerical assignment consists of a short group report on a marine geometry. Your group name indicates which geometry to use, but if your group would prefer to work on a bespoke geometry, come talk to me.\n",
    "\n",
    "Individuals in the group will have their mark reduced for failing to complete the blackboard quizzes discussed in class and/or failure to contribute to the group work.\n",
    "\n",
    "### Report format\n",
    "\n",
    "The report will be submitted in the form of a single Jupyter notebook, like this one. This means it will be a [reproducible engineering document](http://www.nature.com/news/interactive-notebooks-sharing-the-code-1.16261); all of your results will be generated and displayed inside the document itself. \n",
    "\n",
    "The report should contain short *Introduction*, *Method and Validation*, *Results and Discussion* sections. All results must be generated in the notebook and be publication quality; axis labeled, plot legends included, etc.\n",
    "\n",
    "**Please keep the method section focused and to the point**. In particular, do not explain how the functions in `VortexPanel` and `BoundaryLayer` work - explain how *your* code works. How did your specific problem require you to modify the methods introduced in the module.\n",
    "\n",
    "**Please include validation examples** for the geometry generation and post-processing steps. Again, the  `VortexPanel` and `BoundaryLayer` routines are already validated - don't do it again. How do you know _your_ routines are working? \n",
    "\n",
    "It is difficult to measure the \"number of pages\" in these notebooks, but aim for something like a 4 page report with 700-1000 words.\n",
    "\n",
    "### Group management\n",
    "\n",
    "Look for ways that members of the groups can work independently of each other to speed up the process. For example, since you should validate your post-processing code with geometries used in class, and validate your geometry code with simple post-processing metrics we used in class - _these two tasks are independent_! Each member who writes a function should prove it is working with a validation example. Your report is then just a sequence of these examples, followed by your final application example.\n",
    "\n",
    "### Report dependencies\n",
    "\n",
    "You should use as many pre-developed functions as possible from the `numpy`, `pyplot`, `scipy`, `VortexPanel` and `BoundaryLayer` libraries. Never rewrite functions that have already been developed (and tested). Feel free to look at the code in `VortexPanel.py` or `BoundaryLayer.py` to get ideas on how to write your own functions, but don't make changes inside those files since it would break compatibility with my files. Similarly, don't include references to images or additional python files in your report which I don't have access to. "
   ]
  },
  {
   "cell_type": "markdown",
   "metadata": {},
   "source": [
    "\n",
    "\n",
    "**Upload the ipynb file to blackboard by 11pm, 21-May-2020.**\n"
   ]
  },
  {
   "cell_type": "code",
   "execution_count": null,
   "metadata": {},
   "outputs": [],
   "source": []
  }
 ],
 "metadata": {
  "kernelspec": {
   "display_name": "Python 2",
   "language": "python",
   "name": "python2"
  },
  "language_info": {
   "codemirror_mode": {
    "name": "ipython",
    "version": 2
   },
   "file_extension": ".py",
   "mimetype": "text/x-python",
   "name": "python",
   "nbconvert_exporter": "python",
   "pygments_lexer": "ipython2",
   "version": "2.7.10"
  }
 },
 "nbformat": 4,
 "nbformat_minor": 1
}
