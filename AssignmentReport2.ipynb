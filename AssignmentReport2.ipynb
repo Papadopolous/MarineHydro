{
 "cells": [
  {
   "cell_type": "markdown",
   "metadata": {},
   "source": [
    "# Marine Hydrodynamics Assignment 3\n",
    "\n",
    "## Introduciton\n",
    " NACA airfoils are airfoil shapes designed for aircraft wings. What is characteristic about them is that each number of the asigned code-name is a foils' parameter. When these values are entered in specific equaitons they produce the desired shape. A hydrodynamic analysis of the NACA-XXXX foil is undertaken and the foil's performance depends on 2 different parameters is analysed. A range of  camber to chord ratio ($m/c$) and the angle of attack ($\\alpha$) values are tested. The top and bottom points of flow seperation are found for each case, and the added mass was estimated. The two methods of varrying the foil properties are compared and each one's benefits are outlined. Finally, the results are compared and an optimal $m/c$ ratio is determined.\n",
    "\n",
    "## Method\n",
    "Boundary layer decomposition analysis  is used to analise the flow. Although Computaitonal Fluid Dynamics (CFD) methods are frequently used in the marine industry, they are often time consuming and costly.\n",
    "\n",
    "The flow around any immersed body can be expresed by a curved vortex sheet that has variable strength $\\gamma(s)$ and acts as an infinititely thin version of the boundary layer. On the body side, no-slip condition is enforced and on the flow side the slip velocity $u_s=-\\gamma$. The vortex sheet wrapped around the surface is then split in to continoues  pannels which allows some simplifications to be made. Each panel is considered to have its own $\\gamma_j$ strength which is constant throughout each panel. Thus, the induced panel velocity is expressed by $\\vec u_j=\\gamma_j\\vec f_j(x,y)$, where $\\vec f_j$ is the panel influence function and depends on the panel geometry. The velocity at any point is expressed as \\begin{equation}\n",
    "\\vec u(x,y) = \\vec U+\\sum_{j=0}^{N-1} \\vec u_j(x,y)\n",
    "\\end{equation}\n",
    "\n",
    "where we use the index  $j$ to label each of the $N$ panels, $\\vec U$ is the uniform flow and $\\vec u_i$ is de velocity induced by panel i. \n",
    "\n",
    "By substiotuting both velocity equations, the no-slip boundary equation is converted into a linear algebraic condition: \n",
    "$$ u_s = \\left[\\vec U + \\sum_{j=0}^{N-1} \\gamma_j \\ \\vec f_j(x,y)\\right]\\cdot\\hat s=0 $$\n",
    "\n"
   ]
  },
  {
   "cell_type": "code",
   "execution_count": null,
   "metadata": {},
   "outputs": [],
   "source": [
    "#Annoying folder stuff\n",
    "import os\n",
    "import sys\n",
    "module_path = os.path.abspath(os.path.join('..'))\n",
    "if module_path not in sys.path:\n",
    "    sys.path.append(module_path)\n",
    "    \n",
    "# Import plotting and numpy\n",
    "import math as m\n",
    "from matplotlib import pyplot as plt\n",
    "%matplotlib inline\n",
    "import numpy as np\n",
    "\n",
    "# Import vortex panel and boundary layer functions\n",
    "from vortexpanel import VortexPanel as vp\n",
    "from vortexpanel import BoundaryLayer as bl"
   ]
  },
  {
   "cell_type": "markdown",
   "metadata": {},
   "source": [
    "# Generation of a 2D cambered foil\n",
    "A 4 digit equation driven NACA foil was as the foil for unvestigation. This was done due to the ease of varying the foils properties. The shape of the foil is described as follows, \n",
    "* The first digit is divided by 100 to obtain the maximum camber m as a fraction of the chord ___c___\n",
    "* The second digit is divided by 10 to obtain the location of the maximum camber ___p___ as a fraction of the chord ___c___\n",
    "* The final 2 digits are divided by 100 to obtain the foils thickness ___t___ as a fraction of the chord ___c___\n",
    "\n",
    "This allowed a series of foils with a with a camber in the range $0\\le m/c\\le 10\\%$ to be generated. To facilitate the compararion of these foils, a chord of 1 and a $t/c=0.15$ was used.\n",
    "\n",
    "The x and y co-ordinates of the foil are calculated for $N$ points.\n",
    "\n",
    "The neccessary value for $N$ is determined by measuring the distance around the foil, and solving for $\\gamma$."
   ]
  },
  {
   "cell_type": "code",
   "execution_count": 13,
   "metadata": {},
   "outputs": [],
   "source": [
    "#https://en.wikipedia.org/wiki/NACA_airfoil#Equation_for_a_cambered_4-digit_NACA_airfoil\n",
    "t = 0.15; c = 1; p = 0.3;\n",
    "\n",
    "def camber_line( x, m, p, c ):\n",
    "    return np.where((x>=0)&(x<=(c*p)),\n",
    "                    m * (x / np.power(p,2)) * (1 / c) * (2.0 * p - (x / c)),\n",
    "                    m * ((c - x) / np.power(1-p,2)) * (1.0 + (x / c) - 2.0 * p ))\n",
    "\n",
    "def dyc_over_dx( x, m, p, c ):\n",
    "    return np.where((x>=0)&(x<=(c*p)),\n",
    "                    ((2.0 * m) / np.power(p,2)) * (p - (x / c)),\n",
    "                    ((2.0 * m ) / np.power(1-p,2)) * (p - (x / c )))\n",
    "\n",
    "def thickness( x, t, c ):\n",
    "    term1 =  0.2969 * (np.sqrt(x/c))\n",
    "    term2 = -0.1260 * (x/c)\n",
    "    term3 = -0.3516 * np.power(x/c,2)\n",
    "    term4 =  0.2843 * np.power(x/c,3)\n",
    "    term5 = -0.1015 * np.power(x/c,4)\n",
    "    return 5 * t * c * (term1 + term2 + term3 + term4 + term5)\n",
    "\n",
    "#max camber, location of max camber, thickness, chord \n",
    "\n",
    "def naca4(N, m, p=0.3, t=0.15, c=1):\n",
    "    x = np. linspace(0, c, N)\n",
    "    dyc_dx = dyc_over_dx(x, m, p, c)\n",
    "    th = np.arctan(dyc_dx)\n",
    "    yt = thickness(x, t, c)\n",
    "    yc = camber_line(x, m, p, c)\n",
    "    x_top, y_top = (x - yt*np.sin(th), yc + yt*np.cos(th))\n",
    "    x_bot, y_bot = (x + yt*np.sin(th), yc - yt*np.cos(th))\n",
    "    xbot = np.flip(x_bot)\n",
    "    ybot = np.flip(y_bot)\n",
    "    xcoord = np.concatenate([xbot[:-1], x_top])\n",
    "    ycoord = np.concatenate([ybot[:-1], y_top])\n",
    "    return xcoord, ycoord\n"
   ]
  },
  {
   "cell_type": "markdown",
   "metadata": {},
   "source": [
    "# Obtaining the Panel Array and Solving for flow around the foil\n",
    "This section of code takes the x and y array for the foil and returns a panel array of the foil coordinates. Following this, the flow is solved for $\\gamma$ when the foil is at angle $\\alpha$ to the flow."
   ]
  },
  {
   "cell_type": "code",
   "execution_count": 14,
   "metadata": {},
   "outputs": [],
   "source": [
    "#solve for pannels\n",
    "def make_naca4(N, m, **kwargs):\n",
    "    x, y = naca4(N, m, **kwargs)\n",
    "    panels = vp.panelize(x, y)\n",
    "    return panels\n",
    "\n",
    "def plot_naca4(N, m, alpha):\n",
    "    plot = make_naca4(N, m)\n",
    "    plot.solve_gamma_O2(alpha , kutta = [(0,-1)]) \n",
    "    plot.plot_flow()\n",
    "      \n",
    "    plt.xlim(-0.05, 1.05);\n",
    "    plt.ylim(-0.5, 1.05);\n",
    "    \n"
   ]
  },
  {
   "cell_type": "markdown",
   "metadata": {},
   "source": [
    "# Obtaining Results\n",
    "Once the NACA foil is fully defined, the `make_naca4` function is called to generate the panel array across a range of $m$ values. This is used for further analysis to calculate coefficients of lift and drag, as well as the added mass tensor\n",
    "\n",
    "## Convergence \n",
    "\n",
    "To check that convergance has been reached, the distance around the foil is measured using the `distance` function imported from `VortexPanel`. The code solves for $\\gamma$ for $N = 2^n$ where $2 \\leq n \\leq 9$. \n",
    "\n",
    "The Figure below shows that the system converges when N is equal to 128."
   ]
  },
  {
   "cell_type": "code",
   "execution_count": 15,
   "metadata": {},
   "outputs": [
    {
     "data": {
      "image/png": "[encoded data removed]",
      "text/plain": [
       "<Figure size 432x288 with 1 Axes>"
      ]
     },
     "metadata": {
      "needs_background": "light"
     },
     "output_type": "display_data"
    }
   ],
   "source": [
    "#validating Convergence of the system\n",
    "\n",
    "# Loop over resolutions\n",
    "for N in 2**np.arange(2,9,1):         # N in powers of 2\n",
    "    naca = make_naca4(N, m=0.05)         # define geometry abitary value of m used\n",
    "    s = naca.distance()              # get distance array\n",
    "    \n",
    "    naca.solve_gamma(alpha = 0.05, kutta = [(0, 1)])    # solve for gamma, abitary value of alpha used\n",
    "    gamma = naca.get_array('gamma')   # get gamma array\n",
    "    plt.plot(s,gamma,'--',label=N)      # plot\n",
    "\n",
    "# plot to determine convergence\n",
    "plt.legend(title='N for NACA4')\n",
    "plt.xlabel(r'$s$', fontsize=20)\n",
    "plt.ylabel(r'$\\gamma$', fontsize=20, rotation=0)\n",
    "plt.title('Convergence for NACA Foil')\n",
    "plt.show()\n",
    "\n",
    "#convergence around 64/128"
   ]
  },
  {
   "cell_type": "markdown",
   "metadata": {},
   "source": [
    "# Verification of Kutta Condition application\n",
    "\n",
    "To further verify the model used, the first and last value of $\\gamma$ is compared. When $\\gamma[0] = -\\gamma[-1]$, the kutta conditon has been correctly applied. This occurs when $N=256$ when compared at 3 significant figures, however it occurs at 64 for 2 significnat figures. From this, it can be conclused that the kutta condition has been correctly applied to the system."
   ]
  },
  {
   "cell_type": "code",
   "execution_count": 16,
   "metadata": {},
   "outputs": [
    {
     "name": "stdout",
     "output_type": "stream",
     "text": [
      "N: 8, Diff. in vortex strengths: 0.0084\n",
      "N: 16, Diff. in vortex strengths: 0.0047\n",
      "N: 32, Diff. in vortex strengths: 0.0026\n",
      "N: 64, Diff. in vortex strengths: 0.0014\n",
      "N: 128, Diff. in vortex strengths: 0.0008\n",
      "N: 256, Diff. in vortex strengths: 0.0004\n",
      "N: 512, Diff. in vortex strengths: 0.0002\n"
     ]
    }
   ],
   "source": [
    "for N in 2**np.arange(3,10,1):\n",
    "    naca = make_naca4(N, m=0.05)\n",
    "    naca.solve_gamma(alpha=0.05, kutta = [(0, -1)])\n",
    "    gamma = naca.get_array('gamma')\n",
    "    print(r'N: {:.0f}, Diff. in vortex strengths: {:.4f}'.format(N, gamma[0] + gamma[-1]))"
   ]
  },
  {
   "cell_type": "markdown",
   "metadata": {},
   "source": [
    "# Coefficient of Lift $C_L$\n",
    "\n",
    "To compute the pressure, $P$, we can use the Bernoulli equation\n",
    "\n",
    "$$ P+\\frac {1}{2} \\rho\\ |u|^2-\\rho gz = B $$\n",
    "\n",
    "where $\\rho$ is the density, $\\rho gz$ is the head, and $B$ is the Bernoulli coefficient. As in the rest of this course, will assume no hydrostatic pressure.\n",
    "\n",
    "To avoid the ambiguity of the Bernoulli coefficient, we typically work with the pressure coefficient $c_p$\n",
    "\n",
    "$$c_p = \\frac{P-P_\\infty}{\\frac{1}{2} \\rho U^2}$$\n",
    "instead of the pressure.\n",
    "\n",
    "Once we have the surface pressure we can use it to determine the pressure force on the body, as\n",
    "\n",
    "$$ \\vec F_p = -\\oint p \\hat n da $$\n",
    "\n",
    "where $\\oint da$ is the integral over the body surface, and $\\hat n$ is the normal vector to the surface. \n",
    "\n",
    "For instance, the lift coefficient is then:\n",
    "\n",
    "$$ C_L = \\frac{\\vec F_p \\cdot \\hat U_\\perp} { \\tfrac 12 \\rho U^2 A }  = \\frac{-\\oint p \\hat n \\cdot \\hat U_\\perp ds }{ \\tfrac 12 \\rho U^2 c } c= -\\frac{\\oint c_p (s_x\\cos\\alpha+s_y\\sin\\alpha) ds}{ c } $$\n",
    "\n",
    "where $c$ is the coord, $\\hat U_\\perp=\\cos\\alpha\\hat y-\\sin\\alpha\\hat x$ is the direction perpendicular to the free stream and $\\hat n=s_x\\hat y-s_y\\hat x$.\n",
    "\n",
    "And we can use $|u/U|^2=\\tilde\\gamma^2=\\gamma^2$ on the body of $N$ panels to give\n",
    "\n",
    "$$ C_L = \\Sigma_N [(1-\\gamma^2) S_N \\hat n_N] / c $$\n"
   ]
  },
  {
   "cell_type": "code",
   "execution_count": 17,
   "metadata": {},
   "outputs": [],
   "source": [
    "@np.vectorize\n",
    "def C_L(panels,alpha):\n",
    "    \"\"\" Calculate the coefficient of lift for a solved Panel Array\n",
    "\n",
    "    Inputs:\n",
    "    panels    -- a solved Panel Array\n",
    "    alpha     -- the angle of attack\n",
    "\n",
    "    Outputs:\n",
    "    The coefficient of lift\n",
    "\n",
    "    Example:\n",
    "    alpha=np.radians(10)                                # set the angle of attack\n",
    "    ellipse = vp.make_ellipse(N=32,t_c=0.5)             # make a 1:2 elliptical Panel array\n",
    "    ellipse.solve_gamma_O2(alpha=alpha)                 # solve the ellipse flow using a second order panel array method\n",
    "    print(C_L(ellipse, alpha=alpha))                    # print the coefficient of lift\n",
    "    \"\"\"\n",
    "    gamma, xc, S, sx, sy = panels.get_array('gamma','xc','S','sx','sy') # use the solved flow to retrieve gamma, xc, S, sx, sy\n",
    "    c = max(xc)-min(xc)                                                 # calculate the length of the foil chord\n",
    "    perp = sx*np.cos(alpha)+sy*np.sin(alpha)                            # calculate the normal \n",
    "    return -sum((1-gamma**2)*2*S*perp)/c                                # return the coefficient of lift (summation of c_p x normal over the surface)"
   ]
  },
  {
   "cell_type": "markdown",
   "metadata": {},
   "source": [
    "## Validation of $C_L$ function\n",
    "\n",
    "There exists an analytical solution for $C_L$ of a Joukowski foil\n",
    "\n",
    "$$C_L = 2\\pi \\left(1+\\frac {4}{3\\sqrt 3} \\frac {t}{c} \\right)\\sin\\alpha$$\n",
    "\n",
    "where $t/c$ is the thickness to coord ratio.\n",
    "\n",
    "Writing this into a simple function for testing"
   ]
  },
  {
   "cell_type": "code",
   "execution_count": 18,
   "metadata": {},
   "outputs": [],
   "source": [
    "def analytic_C_L(alpha,t_c=0.2355): # t/c of jfoil xcen=-0.1\n",
    "    \"\"\" Calculate the analytic coefficient of lift for a Joukowski foil\n",
    "\n",
    "    Inputs:\n",
    "    alpha     -- the angle of attack\n",
    "    t_c       -- the thickness of the foil as a fraction of chord\n",
    "\n",
    "    Outputs:\n",
    "    The analytic coefficient of lift\n",
    "\n",
    "    Example:\n",
    "    print(analytic_C_L(alpha=0.1, t_c=0.2355))\n",
    "    \"\"\"\n",
    "    return 2*np.pi*(1+t_c*4/(3*np.sqrt(3)))*np.sin(alpha)"
   ]
  },
  {
   "cell_type": "markdown",
   "metadata": {},
   "source": [
    "Testing this on a Joukowski foil with centre (-0.1, 0) and thus $t/c = 0.2355$ leads to:"
   ]
  },
  {
   "cell_type": "code",
   "execution_count": 19,
   "metadata": {},
   "outputs": [
    {
     "data": {
      "image/png": "[encoded data removed]",
      "text/plain": [
       "<Figure size 432x288 with 1 Axes>"
      ]
     },
     "metadata": {
      "needs_background": "light"
     },
     "output_type": "display_data"
    }
   ],
   "source": [
    "alpha_deg = np.linspace(0,15,6)\n",
    "alpha = alpha_deg*np.pi/180.\n",
    "plt.plot(alpha_deg,analytic_C_L(alpha), 'k', label='analytic')\n",
    "\n",
    "jfoil = vp.make_jfoil(N=128, xcen=-0.1, ycen=0)\n",
    "lift = []\n",
    "for a in alpha:\n",
    "    jfoil.solve_gamma_O2(a, kutta=[(0, -1)])\n",
    "    lift.append(C_L(jfoil, a))\n",
    "plt.plot(alpha_deg, lift, 'r-.', label='numeric')\n",
    "\n",
    "plt.legend(loc='lower right')\n",
    "plt.xlabel(r'$\\alpha$ (deg)', fontsize=15)\n",
    "plt.ylabel(r'$C_L$', fontsize=15, rotation=0)\n",
    "plt.yticks([0,1,2]);"
   ]
  },
  {
   "cell_type": "markdown",
   "metadata": {},
   "source": [
    "From this figure it can be seen that there is no noticable difference between the analytical and numerical solution between the analytical and numerical solutions.\n",
    "\n",
    "# Coefficient of Drag $C_D$\n",
    "\n",
    "Because potential flow has no pressure drag. D'Alemberts paradox states that any 'closed' flow can't give any pressure drag. Therefore we must define a wake model to measure drag\n",
    "\n",
    "## Assumptions\n",
    "\n",
    "* The boundary layers separate from the body into a pair of **shear layers**, \n",
    "* The shear layers maintain the same strength ($\\gamma$) as they were at the point of separation. \n",
    "* The distance between the shear layers ($w$) stays the same.\n",
    "\n",
    "The vortex impulse drag for this model is:\n",
    "\n",
    "$$D_P = \\rho \\frac{d}{dt} \\int_S y \\gamma ds$$\n",
    "\n",
    "given the above assumptions we have\n",
    "\n",
    "$$ y = \\pm \\frac{w}{2} \\text{ and } \\gamma = \\pm\\gamma_{wake} $$\n",
    "\n",
    "Since the wake sheets are formed from the sperating of boundary layers, the wake strength should match the potential flow solution at the point of separation\n",
    "\n",
    "$$ \\gamma_{wake} \\approx u_e|_{sep} $$\n",
    "\n",
    "and by the same argument, \n",
    "\n",
    "$$ \\frac{d}{dt}S \\text{~} u_e|_{sep} \\approx \\gamma_{wake}$$\n",
    "\n",
    "since $y = +/- 0.5w$ and $ds/dt \\approx \\gamma$, we have\n",
    "\n",
    "$$D_P \\tilde{} \\rho \\gamma^2 A_w$$\n",
    "\n",
    "where $A_w = wh$ is the wake width\n",
    "\n",
    "$$C_D = \\frac{D}{0.5 \\rho U^2 A_F} \\propto \\frac{A_w \\gamma^2}{A_F U^2} \\equiv A_\\gamma$$\n",
    "\n",
    "Therefore we define a wake drag coefficient as:\n",
    "\n",
    "$$C_\\gamma = \\frac{wb}{A_F} \\tilde{u}^2_e|_{sep} = \\frac {\\rho \\gamma^2 w}{\\rho U^2 t} = \\frac w t \\tilde\\gamma ^2 \\propto C_P$$ \n",
    "\n",
    "Since the wake coefficient $C_\\gamma$ only scales like the drag coeffient $C_D$ we must calibrate our wake drag coefficient $C_\\gamma$ to scale with $C_D$ using empirical data from Hoerner for an ellipse at 0 angle of attack:\n",
    "\n",
    "```\n",
    "c_t = [1.27,1.67,2.06,3.06,3.39,4.03,4.73,8.15]\n",
    "CD = [0.919,0.718,0.604,0.438,0.408,0.342,0.324,0.267]\n",
    "```\n",
    "\n",
    "where `c_t` is the $c/t$ value of the ellipse, and `CD` is the $C_D$ value measure in the experiments"
   ]
  },
  {
   "cell_type": "code",
   "execution_count": 20,
   "metadata": {},
   "outputs": [],
   "source": [
    "def C_gamma(panels):\n",
    "    \"\"\" Calculate the wake coefficient for a solved Panel Array\n",
    "\n",
    "    Inputs:\n",
    "    panels    -- a solved Panel Array\n",
    "\n",
    "    Outputs:\n",
    "    The wake coefficient\n",
    "\n",
    "    Example:\n",
    "    panels = vp.make_ellipse(N, t_c)    # create a PanelArray object for an ellipse\n",
    "    panels.solve_gamma_O2()             # solve the flow\n",
    "    print(C_gamma(panels))              # print the value of C_gamma\n",
    "    \"\"\"\n",
    "    top,bot=panels.split()                              # split the panels at the stagnation point\n",
    "    _,_,iSep = top.thwaites()                           # locate the separation point along the top of the shape\n",
    "    gamma_top = bl.sep(top.get_array('gamma'),iSep)     # get the value of gamma at the separation point\n",
    "    w_top = bl.sep(top.get_array('yc'),iSep)            # get the y-value (measured perpendicularly from the chord) at the separation point (w)\n",
    "    y = panels.get_array('yc')                          # get the y-values of the panel array\n",
    "    thickness = max(y)-min(y)                           # calculate the height of the shape (t)\n",
    "    return (2*w_top*gamma_top**2)/thickness             # calcualte the wake coefficient"
   ]
  },
  {
   "cell_type": "markdown",
   "metadata": {},
   "source": [
    "Calibrating the function using `numpy.polyfit` and `numpy.poly1D` to fit a first-order line through the points, forcing an point at the origin since $C_\\gamma \\propto C_D$ we know that when $C_D = 0$, $C_\\gamma$ will also equal $0$:"
   ]
  },
  {
   "cell_type": "code",
   "execution_count": 21,
   "metadata": {},
   "outputs": [
    {
     "data": {
      "image/png": "[encoded data removed]",
      "text/plain": [
       "<Figure size 432x288 with 1 Axes>"
      ]
     },
     "metadata": {
      "needs_background": "light"
     },
     "output_type": "display_data"
    }
   ],
   "source": [
    "# Hoerner's data\n",
    "c_t = np.array([1.27,1.67,2.06,3.06,3.39,4.03,4.73,8.15])\n",
    "CD = [0.919,0.718,0.604,0.438,0.408,0.342,0.324,0.267]\n",
    "\n",
    "@np.vectorize\n",
    "def ellipse_c_gamma(t_c, N=128):\n",
    "    \"\"\" Calculate the wake coefficient for an ellipse aligned with the flow (alpha=0)\n",
    "\n",
    "    Inputs:\n",
    "    t_c    -- the ellipse thickness/chord value\n",
    "    N      -- the number of panels to create the ellipse with\n",
    "\n",
    "    Outputs:\n",
    "    The wake coefficient\n",
    "\n",
    "    Example:\n",
    "    print(ellipse_c_gamma(0.5, N=64))\n",
    "    \"\"\"\n",
    "    panels = vp.make_ellipse(N, t_c)    # create a PanelArray object for an ellipse\n",
    "    panels.solve_gamma_O2()             # solve the flow\n",
    "    return C_gamma(panels)              # return the value of C_gamma\n",
    "\n",
    "plt.plot(ellipse_c_gamma(1/c_t), CD, 'o', label=r'Hoerners Experimental Data')  # plot the wake ceofficient against the experimental data\n",
    "\n",
    "x = np.append(np.array([0]), ellipse_c_gamma(1/c_t), axis=0)    # setup the data with a point at the origin\n",
    "y = np.append(np.array([0]), CD, axis=0)\n",
    "weights= np.append(np.array([10**10]), np.ones_like(CD))        # weight the point at the origin high to force the regression through that point\n",
    "best_fit=np.polyfit(x, y, 1, w=weights)                         # regress the weighted data\n",
    "plt.plot(x, np.poly1d(best_fit)(x), label=r'$C_D$={:.3f}$C_\\gamma$'.format(best_fit[0]))    # plot the data\n",
    "\n",
    "plt.xlabel(r'$C_\\gamma$')\n",
    "plt.ylabel(r'$C_D$', rotation=0)\n",
    "plt.legend()\n",
    "plt.show();"
   ]
  },
  {
   "cell_type": "markdown",
   "metadata": {},
   "source": [
    "This figure clearly shows that the numerical results fit well with the trend presented in the experimental data, and that a the ratio between the drag and wake coefficients is $1:0.350 (C_D:C_\\gamma)$."
   ]
  },
  {
   "cell_type": "code",
   "execution_count": 22,
   "metadata": {},
   "outputs": [],
   "source": [
    "def C_D(panels, coeff=0.350):\n",
    "    \"\"\" Calculate the drag coefficient for a solved panel array\n",
    "\n",
    "    Inputs:\n",
    "    panels    -- a solved panel array\n",
    "    coeff     -- the first order coefficient relating C_gamma to C_D\n",
    "\n",
    "    Outputs:\n",
    "    The drag coefficient\n",
    "\n",
    "    Example:\n",
    "    panels = vp.make_ellipse(N, t_c)    # create a PanelArray object for an ellipse\n",
    "    panels.solve_gamma_O2()             # solve the flow\n",
    "    print(C_D(panels))                  # print the value of C_gamma\n",
    "    \"\"\"\n",
    "    wake_drag = C_gamma(panels)\n",
    "    return coeff*wake_drag"
   ]
  },
  {
   "cell_type": "markdown",
   "metadata": {},
   "source": [
    "# Added mass coefficients $m_{11}$, $m_{12}, m_{22}, m_{66}$\n",
    "\n",
    "The force on a body in an ideal fluid is:\n",
    "\n",
    "$$ \\vec{F} = - \\oint P \\hat{n} ds $$\n",
    "\n",
    "For 1D linear motion, the scale potential into the unsteady Bernoulli equation gives the pressure in a flow as\n",
    "\n",
    "$$ P = P_\\infty - \\rho a_x \\tilde{\\phi}_x - \\frac{1}{2} \\rho U_x^2 |\\nabla \\tilde{\\phi}_x |^2 $$\n",
    "\n",
    "where $a_x = \\frac{dU_x}{dt}$ is the bodys acceleration. Substuting into the first equation gives:\n",
    "\n",
    "$$ \\vec{F} = a_{x} \\rho\\oint \\tilde{\\phi} \\hat{n} dx + \\frac{1}{2} \\rho U^2 \\oint |\\nabla \\tilde{\\phi}|^2 ds $$\n",
    "\n",
    "where the first expression in the equation\n",
    "\n",
    "$$ a_{xx} P_c \\oint \\tilde{\\phi} \\hat{n} dx $$\n",
    "\n",
    "is the additional force $F_a$ due to added mass and the latter is the lift and drag forces.\n",
    "\n",
    "The added mass coefficient $m_{ij}$ can then be defined as\n",
    "\n",
    "$$ m_{j,i} = \\rho \\int_s \\phi_j n_i dS \\approx \\rho \\sum_{m=1}^N [\\phi_j]_m [n_i]_m \\Delta S_m $$\n",
    "\n",
    "For a body made from vortex panels in uniform flow, superposition gives that\n",
    "\n",
    "$$ -\\pi \\phi_n + \\sum_{m=1}^N \\int_S \\frac{\\partial}{\\partial n} logrdS = \\sum_{m=1}^N [\\frac{\\partial \\phi}{\\partial n}]_i h_{n,m} \\text{ where } n \\epsilon 1, 2, ...,N $$ \n",
    "\n",
    "Where\n",
    "\n",
    "$$\\frac{\\partial \\phi_i}{\\partial n} = n_i$$\n",
    "\n",
    "$$ h_{n,m} = \\int_{S_m} logrdS $$\n",
    "\n",
    "This allows us to discretise the equations into smaller elements $S_N$ using the following approximation\n",
    "\n",
    "$$ h_{n,m} \\approx \\frac{1}{2} [log( (x_m^{(1)}-\\bar{x}_n)^2)^2 + (y_m^{(1)}-\\bar{y}_n)^2)^2 ) + log( (x_m^{(2)}-\\bar{x}_n)^2)^2 + (y_m^{(2)}-\\bar{y}_n)^2)^2 )](\\frac{1}{2} \\Delta S_m) $$\n",
    "\n",
    "where $x_m$ and $y_m$ are the x and y coordinates of the start $^{(1)}$ and end  $^{(2)}$ of the panel, and $\\bar{x}_n$ and $\\bar{m}_n$ are the coordinates of the centers of the panel.\n",
    "\n",
    "The unit vectors can be calculated as\n",
    "\n",
    "$$ n_1 = -\\frac{dy}{dS} = -s_y $$\n",
    "\n",
    "$$ n_2 = \\frac{dx}{dS} = s_x $$\n",
    "\n",
    "and \n",
    "\n",
    "$$ n_6 = \\mathrm{r} \\times \\mathrm{n} = xn_2 -yn_1 $$\n",
    "\n",
    "The flux integral $\\int_{S_m} (\\frac{\\partial}{\\partial n})logrddS$ is equal to the negative of the panels opening angle $-\\delta \\theta_{n,m}$ of segment $S_m$, so therefore we can write the discretised equation\n",
    "\n",
    "$$ -\\pi \\phi_n + \\sum_{m=1}^N \\phi_m (\\Delta \\theta_{n,m}) = \\sum_{m=1}^N [\\frac{\\partial \\phi}{\\partial n}]_i h_{n,m} \\text{ where } n \\epsilon 1, 2, ...,N $$ \n",
    "\n",
    "the above equation can be expressed as \n",
    "\n",
    "$$ A \\phi = B $$\n",
    "\n",
    "where $A$ is a matrix of all opening angles on the equations left hand side, and $B$ is equal to the right hand side of the equation. Matrix $A$ can be filled out using basic trigonometry. The solution for potential $\\phi$ can then be used to find the added mass coefficients through the equation\n",
    "\n",
    "$$ m_{j,i} = \\rho \\int_S \\phi_j n_i dS \\approx \\rho \\sum_{m=1}^N [\\phi_j]_m [n_i]_m \\Delta S_m $$\n",
    "\n",
    "The added mass tensor is symmetric\n",
    "\n",
    "$$ m_{12} = m_{21} $$\n",
    "\n",
    "this can be confirmed through Green's theorem \n",
    "\n",
    "$$ \\int \\int_S [\\phi \\frac{\\partial \\psi}{\\partial n} = \\psi \\frac{\\partial \\phi}{\\partial n}]dS = \\int \\int_V \\int \\nabla \\cdot (\\phi \\nabla \\psi - \\psi \\nabla \\phi) dV = 0 $$\n",
    "\n",
    "Applying this to potentials $\\phi_i$ and $\\phi_j$ over a closed surface $S_B + S_C$ reveals that $S_C$ vanishes as $r \\rightarrow \\infty$, and so\n",
    "\n",
    "$$ \\int \\int_S{S_B} [\\phi_j \\frac{\\partial \\phi_i}{\\partial n} \\phi_i \\frac{\\partial \\phi_j}{\\partial n}]dS = 0 $$\n",
    "\n",
    "and \n",
    "\n",
    "$$ m_{i,j} = m_{j,i} $$\n",
    "\n",
    "allowing us to neglect reporting both $m_12$ and $m_21$ from the function.\n",
    "\n",
    "This \"added mass\" theory section was written with reference to Farnaz Rezvany's work, available at: `https://github.com/frh-uio/MEK4420/tree/master/MandatoryAssignment1` and (Newman, J.N. 2017, **Marine Hydrodynamics**, The Massachusetts Institute of Technology, United States of America). The added mass code below was based upon the code found under in this repository.\n",
    "\n",
    "Modifications made:\n",
    "\n",
    "* Input edited to accept a `PanelArray` object could be passed into the the function. \n",
    "\n",
    "* Utilised `PanelArray.get_array()` to simplify the calculations of normals and to calculate the start and and points of each panel.\n",
    "\n",
    "* Function now returns $m_{12}$\n",
    "\n",
    "* Function raises a `ValueError` is the matrix is not symmetric ($m_{12} - m_{21} > 10^{-3}$)"
   ]
  },
  {
   "cell_type": "code",
   "execution_count": 55,
   "metadata": {},
   "outputs": [],
   "source": [
    "def added_mass(panels):\n",
    "    \"\"\" Calculate the added mass of a PanelArray object\n",
    "\n",
    "    Inputs:\n",
    "    panels    -- a panel array\n",
    "\n",
    "    Outputs:\n",
    "    m11, m22, m66\n",
    "\n",
    "    Example:\n",
    "    panels = vp.make_ellipse(N, t_c)         # create a PanelArray object for an ellipse\n",
    "    m11, m22, m66 = added_mass(panels)       # solve the flow\n",
    "    print(m11, m22, m66)                     # print the value of C_gamma\n",
    "    \"\"\"\n",
    "    xc, yc, S, sx, sy = panels.get_array('xc','yc','S','sx','sy') # Retrieve gamma, xc, S, sx, sy\n",
    "    N = len(panels.panels)  # Get number of panels used\n",
    "    A = np.zeros((N, N))    # For storage of the values from the lhs of the equation\n",
    "    B11 = np.zeros(N)       # Arrays for storage of values for  the rhs of the equation\n",
    "    B22 = np.zeros(N)\n",
    "    B66 = np.zeros(N)\n",
    "\n",
    "    dS = 2*S                # length of panel\n",
    "    n1 = -sy                # normal in the x direction\n",
    "    n2 = sx                 # normal in the y direction\n",
    "    n6 = xc * n2 -yc * n1   # from cross product\n",
    "\n",
    "    x = np.empty(N+1)\n",
    "    x[0] = xc[0] - S[0]*sx[0]\n",
    "    x[1:] = xc + S*sx\n",
    "\n",
    "    y = np.empty(N+1)\n",
    "    y[0] = yc[0] - S[0]*sx[0]\n",
    "    y[1:] = yc + S*sy\n",
    "\n",
    "    for i in range(N):\n",
    "        r1 = np.linalg.norm(np.array([x[:-1], y[:-1]]).T - np.array([xc[i], yc[i]]), axis=1)\n",
    "        r2 = np.linalg.norm(np.array([x[1:], y[1:]]).T - np.array([xc[i], yc[i]]), axis=1)\n",
    "\n",
    "        theta = -np.arccos( (dS**2 - r2**2 - r1**2)/(-2*r2*r1) )\n",
    "        theta[np.isnan(theta)] = 0\n",
    "\n",
    "        h11 = (np.log(r1) + np.log(r2))*0.5*dS\n",
    "        h22 = (np.log(r1) + np.log(r2))*0.5*dS\n",
    "        h66 = (np.log(r1) + np.log(r2))*0.5*dS\n",
    "\n",
    "        A[i] = theta\n",
    "        np.fill_diagonal(A, -np.pi)\n",
    "\n",
    "        B11[i] = sum(n1*h11)\n",
    "        B22[i] = sum(n2*h22)\n",
    "        B66[i] = sum(n6*h66)\n",
    "\n",
    "    phi11 = np.linalg.solve(A, B11)\n",
    "    phi22 = np.linalg.solve(A, B22)\n",
    "    phi66 = np.linalg.solve(A, B66)\n",
    "\n",
    "    m11 = sum(phi11*n1*dS)\n",
    "    m12 = sum(phi11*n2*dS)\n",
    "    m21 = sum(phi22*n1*dS)\n",
    "    m22 = sum(phi22*n2*dS)\n",
    "    m66 = sum(phi66*n6*dS)\n",
    "#    if m12-m21 > 10**-3:\n",
    "#        raise ValueError(\"Added mass matrix is not symmetric\")\n",
    "\n",
    "    return m11, m12, m22, m66"
   ]
  },
  {
   "cell_type": "markdown",
   "metadata": {},
   "source": [
    "## Verification of added mass code\n",
    "\n",
    "An analytical solution exists for an ellipse aligned with flow, with length $a$ in the direction of flow, and length $b$\n",
    "\n",
    "$$ m_{11} = \\pi \\rho b^2 $$\n",
    "$$ m_{22} = \\pi \\rho a^2 $$\n",
    "$$ m_{12} = 0 \\text{, true for any symettrical shape} $$\n",
    "$$ m_{66} = \\frac{1}{8} \\pi \\rho (a^2 - b^2)^2 $$\n",
    "\n",
    "In these non-dimenional simulations, $\\rho$ can be taken to be effectively 1 for the purposes of comparison, and $b/a = t/c$"
   ]
  },
  {
   "cell_type": "code",
   "execution_count": 56,
   "metadata": {},
   "outputs": [
    {
     "name": "stderr",
     "output_type": "stream",
     "text": [
      "C:\\Users\\vasil\\anaconda3\\lib\\site-packages\\ipykernel_launcher.py:39: RuntimeWarning: invalid value encountered in arccos\n",
      "C:\\Users\\vasil\\anaconda3\\lib\\site-packages\\ipykernel_launcher.py:26: RuntimeWarning: divide by zero encountered in double_scalars\n"
     ]
    },
    {
     "name": "stdout",
     "output_type": "stream",
     "text": [
      "For a foil of thickness 15% (t/c=0.15):\n",
      "Analytical solution: m11 = 0.07069, m12 = 0.00000, m22 = 3.14159, m66 = 0.37523\n",
      "Numerical  solution: m11 = 0.07031, m12 = 0.00012, m22 = 3.10827, m66 = 0.37061\n",
      "Error (%):           m11 = -0.5370, m12 = inf, m22 = -1.0606, m66 = -1.2302\n",
      "\n"
     ]
    },
    {
     "data": {
      "image/png": "[encoded data removed]",
      "text/plain": [
       "<Figure size 432x288 with 1 Axes>"
      ]
     },
     "metadata": {
      "needs_background": "light"
     },
     "output_type": "display_data"
    }
   ],
   "source": [
    "@np.vectorize\n",
    "def ellipse_added_mass(N, t_c):\n",
    "    \"\"\" Calculate the analytical and numerical added masses, as well as the error between them\n",
    "\n",
    "    Inputs:\n",
    "    N       -- the number of panels to use\n",
    "    t_c     -- the thickness of the ellipse (as a multiple of chord)\n",
    "\n",
    "    Outputs:\n",
    "    (m11, m22, m66) for analytical and numerical methods, then percentage error of the numerical results\n",
    "\n",
    "    Example:\n",
    "    m11_exact, m22_exact, m66_exact, m11, m22, m66, m11_error, m22_error, m66_error = ellipse_added_mass(N=500, t_c=0.5)   # Results from function\n",
    "    print(m11_analytical)                                               # print the value of m11 as\n",
    "    \"\"\"\n",
    "    ellipse = vp.make_ellipse(N, t_c)\n",
    "\n",
    "    m11_exact = np.pi*t_c**2\n",
    "    m22_exact = np.pi\n",
    "    m12_exact = 0\n",
    "    m66_exact = 1/8 * np.pi * (1 - t_c**2)**2\n",
    "    \n",
    "    m11, m12, m22, m66 = added_mass(ellipse) \n",
    "\n",
    "    m11_error = (m11/m11_exact-1)*100\n",
    "    m12_error = (m12/m12_exact-1)*100\n",
    "    m22_error = (m22/m22_exact-1)*100\n",
    "    m66_error = (m66/m66_exact-1)*100\n",
    "\n",
    "    return m11_exact, m12_exact, m22_exact, m66_exact, m11, m12, m22, m66, m11_error, m12_error, m22_error, m66_error\n",
    "\n",
    "N=500\n",
    "\n",
    "m11_exact, m12_exact, m22_exact, m66_exact, m11, m12, m22, m66, m11_error, m12_error, m22_error, m66_error = ellipse_added_mass(N, 0.15)\n",
    "print('For a foil of thickness 15% (t/c=0.15):')\n",
    "print('Analytical solution: m11 = {:.5f}, m12 = {:.5f}, m22 = {:.5f}, m66 = {:.5f}'.format(m11_exact, m12_exact, m22_exact, m66_exact))\n",
    "print('Numerical  solution: m11 = {:.5f}, m12 = {:.5f}, m22 = {:.5f}, m66 = {:.5f}'.format(m11, m12, m22, m66))\n",
    "print('Error (%):           m11 = {:.4f}, m12 = {:.4f}, m22 = {:.4f}, m66 = {:.4f}'.format(m11_error, m12_error, m22_error, m66_error))\n",
    "print()\n",
    "\n",
    "t_c = np.arange(0.05, 1, 0.05)\n",
    "_, _, _, _, _, _, _, _, m11_error, m12_error, m22_error, m66_error = ellipse_added_mass(N, t_c)\n",
    "plt.plot(t_c, m11_error, label='$m_{11}$')\n",
    "plt.plot(t_c, m22_error, label='$m_{22}$')\n",
    "plt.plot(t_c, m66_error, label='$m_{66}$')\n",
    "plt.xlabel(r'$t/c$')\n",
    "plt.ylabel(r'Error from analytical (%)')\n",
    "plt.xlim(0, max(t_c))\n",
    "plt.grid('both')\n",
    "plt.legend()\n",
    "plt.show()"
   ]
  },
  {
   "cell_type": "markdown",
   "metadata": {},
   "source": [
    "From the above calculations and graph, it can be seen that the `added_mass` function returns values close to the analytical solutions, and should be expected to give results with approximately 1% error with foils of thickness 15%. \n",
    "\n",
    "# Separation Point\n",
    "\n",
    "Utilising Thwaites integral\n",
    "\n",
    "$$ \\frac{\\delta_2}{L} (Re_L)^2 = ( \\frac{0.45}{u_s^6(s)}  \\int_0^s{u_s^5(s)ds})^{0.5} $$\n",
    "\n",
    "we can use algebra to give\n",
    "\n",
    "$$ \\frac{du_s}{ds}\\frac{\\delta_2^2 U}{\\nu L} = \\frac{du_e}{dx}\\frac{\\delta_2^2}{\\nu} = \\lambda c_2^2 = f(\\lambda) $$\n",
    "\n",
    "where the left hand side is known from Thwaites and the prescribed $u_s$ array, and $c_2=\\delta_2/\\delta$ which is a known function of $\\lambda$. Therefore, we can determine $\\lambda$ on every point along the body and locate the point at which the flow separated, where $\\lambda=-12$."
   ]
  },
  {
   "cell_type": "code",
   "execution_count": 57,
   "metadata": {},
   "outputs": [],
   "source": [
    "def sep_point(panels):\n",
    "    \"\"\" Calculate separation points on a solved PanelArray\n",
    "\n",
    "    Inputs:\n",
    "    panels  -- a solved PanelArray object\n",
    "\n",
    "    Outputs:\n",
    "    (m11, m22, m66) for analytical and numerical methods, then percentage error of the numerical results\n",
    "\n",
    "    Example:\n",
    "    ellipse = vp.make_ellipse(64, 0.5)  # make ellipse\n",
    "    ellipse.solve_gamma_O2(alpha=0.1)   # solve flow\n",
    "    ellipse.plot_flow()                 # plot flow\n",
    "    xs, ys = sep_point(ellipse)         # get separation points\n",
    "    plt.scatter(xs, ys, s=100, c='g', zorder=10)    # plot separation points ontop of flow\n",
    "    \"\"\"\n",
    "    top, bot = panels.split()   # split the body at the stagnation points\n",
    "    _,_,itop = top.thwaites()   # get the seperation points distance allong array\n",
    "    _,_,ibot = bot.thwaites()\n",
    "\n",
    "    top_x = top.get_array('xc')\n",
    "    top_y = top.get_array('yc')\n",
    "    bot_x = bot.get_array('xc')\n",
    "    bot_y = bot.get_array('yc')\n",
    "\n",
    "    top_xc = (top_x - min(top_x)) / (max(top_x) - min(top_x))\n",
    "    top_yc = (top_y - min(top_y)) / (max(top_y) - min(top_y))\n",
    "    bot_xc = (bot_x - min(bot_x)) / (max(bot_x) - min(bot_x))\n",
    "    bot_yc = (bot_y - min(bot_y)) / (max(bot_y) - min(bot_y))\n",
    "\n",
    "    x_top = bl.sep(top_xc, itop)   # get the x and y coordinates of the separation points\n",
    "    y_top = bl.sep(top_yc, itop)\n",
    "    x_bot = bl.sep(bot_xc, ibot)\n",
    "    y_bot = bl.sep(bot_yc, ibot)\n",
    "    return [x_top, x_bot], [y_top, y_bot]\n"
   ]
  },
  {
   "cell_type": "markdown",
   "metadata": {},
   "source": [
    "## Validation of Separation Point\n",
    "\n",
    "Experimental data on the separation point on an ellipse, found by Hoerner, can be used to validate the separation code."
   ]
  },
  {
   "cell_type": "code",
   "execution_count": 58,
   "metadata": {},
   "outputs": [
    {
     "data": {
      "image/png": "[encoded data removed]",
      "text/plain": [
       "<Figure size 432x288 with 1 Axes>"
      ]
     },
     "metadata": {
      "needs_background": "light"
     },
     "output_type": "display_data"
    }
   ],
   "source": [
    "@np.vectorize\n",
    "def ellipse_sep(t_c, N=128):\n",
    "    \"\"\" Calculate separation points on an ellipse aligned with the flow\n",
    "\n",
    "    Inputs:\n",
    "    t_c     -- the thickness:length ratio of the ellipse\n",
    "    N       -- the number of panels to construct the ellipse from\n",
    "\n",
    "    Outputs:\n",
    "    xs, ys  -- two lists containing the x and y coordinates of the separation points\n",
    "\n",
    "    Example:\n",
    "    \"\"\"\n",
    "    ellipse=vp.make_ellipse(N, t_c)\n",
    "    ellipse.solve_gamma_O2()           \n",
    "    return sep_point(ellipse) \n",
    "\n",
    "t_c = np.linspace(0.1,1,11)\n",
    "xs_top = []\n",
    "xs_bot = []\n",
    "for i in t_c:\n",
    "    xs, ys = ellipse_sep(i, N=128)\n",
    "    x_top, x_bot = xs\n",
    "    xs_top.append(x_top)\n",
    "    xs_bot.append(x_bot)\n",
    "plt.plot(t_c,xs_top, label='numeric, top surface')\n",
    "plt.plot(t_c,xs_bot, '--', label='numeric, bottom surface')\n",
    "plt.scatter([1,1./2.,1./4.,1./6.,1./8.],\n",
    "            [0.65,0.76,0.86,0.90,0.92],\n",
    "            s=100, label='experimental')\n",
    "plt.legend()\n",
    "plt.xlabel(r'$t/c$')\n",
    "plt.ylabel(r'$x_s/c$', rotation=0, labelpad=12);"
   ]
  },
  {
   "cell_type": "markdown",
   "metadata": {},
   "source": [
    "The numerical predictions of separation point can be seen to fit well with the experimental separation points found by Hoerner."
   ]
  },
  {
   "cell_type": "markdown",
   "metadata": {},
   "source": [
    "# Parametric Study into foil camber\n",
    "\n",
    "Studing performance metrics $C_L$, $C_D$ and the location of the separation points over the range $0 \\leq m/c \\leq 10\\%$\n",
    "The cord is kept constant,thus each change in $m/c$ to be expresed as only a change in camber."
   ]
  },
  {
   "cell_type": "code",
   "execution_count": 112,
   "metadata": {},
   "outputs": [],
   "source": [
    "@np.vectorize\n",
    "def test_naca4(m_c, alpha, N=128):\n",
    "    foil = make_naca4(N=N, m=m_c)\n",
    "\n",
    "    added_mass_coeffs = added_mass(foil)\n",
    "\n",
    "    foil.solve_gamma_O2(alpha, kutta=[(0,-1)])\n",
    "    CL = C_L(foil, alpha)\n",
    "    CD = C_D(foil)\n",
    "    sep_coords = sep_point(foil)\n",
    "    return CL, CD, sep_coords, added_mass_coeffs\n",
    "\n"
   ]
  },
  {
   "cell_type": "code",
   "execution_count": 113,
   "metadata": {},
   "outputs": [
    {
     "name": "stderr",
     "output_type": "stream",
     "text": [
      "C:\\Users\\vasil\\anaconda3\\lib\\site-packages\\ipykernel_launcher.py:39: RuntimeWarning: invalid value encountered in arccos\n"
     ]
    },
    {
     "name": "stdout",
     "output_type": "stream",
     "text": [
      "(array(0.0715994), array(0.26188635), array([[0.67757465, 0.66567938],\n",
      "       [0.63752345, 0.34359869]]), array([ 0.01582487, -0.00140301,  0.76470169,  0.2116021 ]))\n"
     ]
    }
   ],
   "source": [
    "print(test_naca4(0, 0))\n",
    "        "
   ]
  },
  {
   "cell_type": "code",
   "execution_count": null,
   "metadata": {},
   "outputs": [],
   "source": []
  },
  {
   "cell_type": "code",
   "execution_count": 149,
   "metadata": {},
   "outputs": [
    {
     "name": "stderr",
     "output_type": "stream",
     "text": [
      "C:\\Users\\vasil\\anaconda3\\lib\\site-packages\\ipykernel_launcher.py:39: RuntimeWarning: invalid value encountered in arccos\n"
     ]
    }
   ],
   "source": [
    "m_c = np.arange(0, 0.110, 0.01)\n",
    "alpha=5*np.pi/180\n",
    "\n",
    "CL_list = []           \n",
    "CD_list = []\n",
    "sep_list = []\n",
    "added_mass_list = []\n",
    "\n",
    "for camber in m_c:\n",
    "    CL, CD, ([x_top, x_bot],[y_top, y_bot]), ([m11, m12, m22, m66]) = test_naca4(camber, alpha)  \n",
    "    CL_list.append(CL)                                                                       \n",
    "    CD_list.append(CD)                                                                     \n",
    "    sep_coords = zip(xs, ys)\n",
    "    sep_list.append(sep_coords)\n",
    "    added_mass_coeffs = ([m11, m12, m22, m66])\n",
    "    added_mass_list.append(added_mass_coeffs)\n",
    "    "
   ]
  },
  {
   "cell_type": "code",
   "execution_count": 154,
   "metadata": {},
   "outputs": [
    {
     "data": {
      "image/png": "[encoded data removed]",
      "text/plain": [
       "<Figure size 432x288 with 1 Axes>"
      ]
     },
     "metadata": {
      "needs_background": "light"
     },
     "output_type": "display_data"
    },
    {
     "data": {
      "image/png": "[encoded data removed]",
      "text/plain": [
       "<Figure size 432x288 with 1 Axes>"
      ]
     },
     "metadata": {
      "needs_background": "light"
     },
     "output_type": "display_data"
    }
   ],
   "source": [
    "def plt_coef_m_c(m_c,CL_list,CD_list):\n",
    "    plt.figure(0)\n",
    "    plt.plot(m_c,CL_list,'o--',label=r'$C_L/(m/c)$')\n",
    "    plt.plot(m_c,CD_list,'o--',label=r'$C_D/(m/c)$')\n",
    "    plt.legend()\n",
    "    plt.xlabel(r'$m/c$')\n",
    "    plt.ylabel(r'$Coef. Values$')\n",
    "    plt.axis()\n",
    "    plt.figure(1)\n",
    "    plt.plot(CL_list,CD_list,'o-',label=r'$C_L/C_D$')\n",
    "    plt.xlabel(r'$C_L$')\n",
    "    plt.ylabel(r'$C_D$')\n",
    "    plt.axis()\n",
    "plt_coef_m_c(m_c,CL_list,CD_list)\n"
   ]
  },
  {
   "cell_type": "code",
   "execution_count": 148,
   "metadata": {},
   "outputs": [
    {
     "name": "stdout",
     "output_type": "stream",
     "text": [
      "<zip object at 0x000002984B460F08>\n"
     ]
    }
   ],
   "source": []
  },
  {
   "cell_type": "code",
   "execution_count": null,
   "metadata": {},
   "outputs": [],
   "source": []
  }
 ],
 "metadata": {
  "kernelspec": {
   "display_name": "Python 3",
   "language": "python",
   "name": "python3"
  },
  "language_info": {
   "codemirror_mode": {
    "name": "ipython",
    "version": 3
   },
   "file_extension": ".py",
   "mimetype": "text/x-python",
   "name": "python",
   "nbconvert_exporter": "python",
   "pygments_lexer": "ipython3",
   "version": "3.7.6"
  }
 },
 "nbformat": 4,
 "nbformat_minor": 2
}
